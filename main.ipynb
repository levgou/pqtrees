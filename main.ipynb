{
 "cells": [
  {
   "cell_type": "markdown",
   "metadata": {},
   "source": [
    "# PQTrees\n",
    "#### Lev. G 2020"
   ]
  },
  {
   "cell_type": "markdown",
   "metadata": {},
   "source": [
    "### Project mostly based on the work described at:\n",
    "* __Finding All Common Intervals of k Permutations:__ `docs/articles/Finding All Common Intervals of k Permutations.pdf`\n",
    "\n",
    "* __Gene Proximity Analysis Across Whole Genomes via PQ Trees__: `docs/articles/Gene Proximity Analysis Across Whole Genomes via PQ Trees (2005) OrenWeimann.pdf`"
   ]
  },
  {
   "cell_type": "markdown",
   "metadata": {},
   "source": [
    "## The project:\n",
    "### This notebook is devided into a few subpartts as follows:\n",
    "\n",
    "i. Common intervals   \n",
    "ii. PQTrees    \n",
    "iii. PQTrees extensions    \n",
    "iv. Apendix   \n",
    "\n",
    "Each part will provide an explanatiion, an implementation and further remarks"
   ]
  },
  {
   "cell_type": "markdown",
   "metadata": {},
   "source": [
    "## Common Intervals "
   ]
  },
  {
   "cell_type": "markdown",
   "metadata": {},
   "source": [
    "### Glossary"
   ]
  },
  {
   "attachments": {},
   "cell_type": "markdown",
   "metadata": {},
   "source": [
    "#### 1. Common Intervals\n",
    "\n",
    "For `k` permutation over the same alephabet, w.l.o.g over `[0..x]` and first permutation `p0` is `[0..x]`,\n",
    "Common intervals are sub intervals of `p0` (for example `[1..3]`) tha appear together in all the permutation.\n",
    "\n",
    "Trivial common intervals are all the singltons (because the permutations are over the same alphabet) - \n",
    "`[0,0]` ... `[x,x]`,   \n",
    "and the whole permutation `[0,x]`\n",
    "\n",
    "__Example:__   \n",
    "For permutations `(0, 1, 2, 3, 4) ; 4, 3, 0, 2, 1)` the non trivial common intervals are:\n",
    "`{ [1,2], [3,4], [0,2], [0,3] }`"
   ]
  },
  {
   "attachments": {},
   "cell_type": "markdown",
   "metadata": {},
   "source": [
    "#### 2. Irreducible intervals \n",
    "For `k` permutation as in `1.` irreducible intervals are a sub set of the common intervals set, \n",
    "that follow:  \n",
    "\n",
    "Each interval that is not composable from any other intervals\n",
    "\n",
    "__Composoble:__ An interval is said to be composble in the case there are some other intervals that overlap with at leasr 1 character and compose the said interval, for ex. composing `[2,4]` with `[3,5]` produces `[2,5]`\n",
    "\n",
    "__Example:__ For athe following group of intervals:   \n",
    "`{[1, 2], [1, 3], [1, 8], [1, 9], [2, 3], [4, 5], [4, 6], [4, 7], [4, 8], [4, 9], [5, 6] }`\n",
    "\n",
    "The subset of irreducible intervlas is:   \n",
    "`{[1, 2], [1, 8], [2, 3], [4, 5], [4, 7], [4, 8], [4, 9], [5, 6]}`\n"
   ]
  },
  {
   "cell_type": "markdown",
   "metadata": {},
   "source": [
    "### Algorithms\n",
    "\n",
    "In order to find all the common intervals, first a trivial algorithm was used - then amore eficient one was devised."
   ]
  },
  {
   "cell_type": "markdown",
   "metadata": {},
   "source": [
    "#### 1. Trivial algorithm"
   ]
  },
  {
   "cell_type": "markdown",
   "metadata": {},
   "source": [
    "```python\n",
    "for size in [1, ..., len(permutations[0])]:\n",
    "    for w in sliding_window(permutations[0], size):\n",
    "        char_set = set(w)\n",
    "        if all(find_char_set(p, char_set) for p in permutations[1:]):\n",
    "            common_intervals.add(w)\n",
    "\n",
    "```"
   ]
  },
  {
   "cell_type": "code",
   "execution_count": 1,
   "metadata": {},
   "outputs": [
    {
     "data": {
      "text/plain": [
       "[CI[1, 2], CI[3, 4], CI[0, 2], CI[0, 3], CI[0, 4]]"
      ]
     },
     "execution_count": 1,
     "metadata": {},
     "output_type": "execute_result"
    }
   ],
   "source": [
    "from pqtrees import trivial_common_k\n",
    "\n",
    "permutations =  ((0, 1, 2, 3, 4), (4, 3, 0, 2, 1))\n",
    "trivial_common_k(*permutations)"
   ]
  },
  {
   "cell_type": "markdown",
   "metadata": {},
   "source": [
    "#### 2. Optimized Algorithm\n",
    "\n",
    "The optimized algorithm before searching a char_set in some pemutation - will index all the subsets of such permutation with the length of char_set - reducing the runtime of subsequent searched to `O(1)`.\n",
    "\n",
    "Index generation is done lazily (the index is updated only upon first search of a certain length), to eliminate not needed proccessing when working with big anounts of permutations (more than 20-30).\n",
    "\n",
    "The algorithm structure is very similar to `1.` but with indexing changes:\n",
    "\n",
    "```python\n",
    "for size in [1, ..., len(permutations[0])]:\n",
    "    index = {}\n",
    "    for w in sliding_window(permutations[0], size):\n",
    "        char_set = set(w)\n",
    "        if char_set_in_others(permutations[1:], char_set, index):\n",
    "            common_intervals.add(w)\n",
    "\n",
    "def char_set_in_others(others, char_set, index):\n",
    "    for other in others:\n",
    "        if other not in index:\n",
    "            index_perm(index, other, len(char_set)\n",
    "        if char_set not in index[other]:\n",
    "            return False\n",
    "    return True\n",
    "                                      \n",
    "def index_perm(index, perm, length):\n",
    "    for w in sliding_window(perm, length):\n",
    "        index[perm].add(set(w))\n",
    "```"
   ]
  },
  {
   "cell_type": "code",
   "execution_count": 2,
   "metadata": {},
   "outputs": [
    {
     "data": {
      "text/plain": [
       "[CI[1, 2], CI[3, 4], CI[0, 2], CI[0, 3], CI[0, 4]]"
      ]
     },
     "execution_count": 2,
     "metadata": {},
     "output_type": "execute_result"
    }
   ],
   "source": [
    "from pqtrees import common_k_indexed\n",
    "\n",
    "permutations =  ((0, 1, 2, 3, 4), (4, 3, 0, 2, 1))\n",
    "common_k_indexed(*permutations)"
   ]
  },
  {
   "cell_type": "markdown",
   "metadata": {},
   "source": [
    "#### 3. Benchmark\n",
    "We want to measure the improvement of the second alg.\n",
    "Thus we will run randomized examples on a large amount of long permutations and measure the times."
   ]
  },
  {
   "cell_type": "code",
   "execution_count": 9,
   "metadata": {},
   "outputs": [
    {
     "name": "stdout",
     "output_type": "stream",
     "text": [
      "\n",
      "Runtimes:\n",
      "{'common_k_indexed': 0.9531488960001298, 'trivial_common_k': 54.91819818200008}\n"
     ]
    }
   ],
   "source": [
    "import random\n",
    "from pprint import pprint\n",
    "from pqtrees import time_runtime\n",
    "\n",
    "REPEAT_TEST_TIMES = 150\n",
    "LENGTH = 100\n",
    "NUM_PERMS = 100\n",
    "\n",
    "algs = [trivial_common_k, common_k_indexed]\n",
    "names = [alg.__name__ for alg in algs]\n",
    "total_times = {name: 0 for name in names}\n",
    "\n",
    "\n",
    "for _ in range(REPEAT_TEST_TIMES):\n",
    "\n",
    "    sig_a = list(range(LENGTH))\n",
    "    other_perms = [list(sig_a) for _ in range(NUM_PERMS - 1)]\n",
    "    for p in other_perms:\n",
    "        random.shuffle(p)\n",
    "\n",
    "    t_others = map(tuple, other_perms)\n",
    "\n",
    "    for alg, alg_name in zip(algs, names):\n",
    "        _, cur_rt = time_runtime(lambda: alg(sig_a, *t_others))\n",
    "        total_times[alg_name] += cur_rt\n",
    "\n",
    "print(\"\\nRuntimes:\")\n",
    "pprint(total_times)\n"
   ]
  },
  {
   "cell_type": "markdown",
   "metadata": {},
   "source": [
    "## PQTree\n",
    "<img src=\"https://upload.wikimedia.org/wikipedia/commons/thumb/6/6e/Pq-tree-5-leaves.svg/330px-Pq-tree-5-leaves.svg.png\" alt=\"From Wikipedia\" style=\"width: 200px;\" align=”left” />\n",
    "\n",
    "<img src=”IMAGE URL” align=”right” style=”margin: 0px 0px 0px 10px;” /><p>Your text goes here.</p>"
   ]
  },
  {
   "cell_type": "code",
   "execution_count": null,
   "metadata": {},
   "outputs": [],
   "source": []
  },
  {
   "cell_type": "code",
   "execution_count": null,
   "metadata": {},
   "outputs": [],
   "source": []
  },
  {
   "cell_type": "code",
   "execution_count": null,
   "metadata": {},
   "outputs": [],
   "source": []
  },
  {
   "cell_type": "code",
   "execution_count": null,
   "metadata": {},
   "outputs": [],
   "source": []
  },
  {
   "cell_type": "code",
   "execution_count": null,
   "metadata": {},
   "outputs": [],
   "source": []
  },
  {
   "cell_type": "code",
   "execution_count": null,
   "metadata": {},
   "outputs": [],
   "source": []
  },
  {
   "cell_type": "code",
   "execution_count": null,
   "metadata": {},
   "outputs": [],
   "source": []
  },
  {
   "cell_type": "code",
   "execution_count": null,
   "metadata": {},
   "outputs": [],
   "source": []
  },
  {
   "cell_type": "code",
   "execution_count": null,
   "metadata": {},
   "outputs": [],
   "source": []
  },
  {
   "cell_type": "code",
   "execution_count": null,
   "metadata": {},
   "outputs": [],
   "source": []
  },
  {
   "cell_type": "code",
   "execution_count": null,
   "metadata": {},
   "outputs": [],
   "source": []
  },
  {
   "cell_type": "code",
   "execution_count": null,
   "metadata": {},
   "outputs": [],
   "source": []
  },
  {
   "cell_type": "code",
   "execution_count": null,
   "metadata": {},
   "outputs": [],
   "source": []
  },
  {
   "cell_type": "code",
   "execution_count": null,
   "metadata": {},
   "outputs": [],
   "source": []
  }
 ],
 "metadata": {
  "kernelspec": {
   "display_name": "Python 3",
   "language": "python",
   "name": "python3"
  },
  "language_info": {
   "codemirror_mode": {
    "name": "ipython",
    "version": 3
   },
   "file_extension": ".py",
   "mimetype": "text/x-python",
   "name": "python",
   "nbconvert_exporter": "python",
   "pygments_lexer": "ipython3",
   "version": "3.8.1"
  }
 },
 "nbformat": 4,
 "nbformat_minor": 4
}
