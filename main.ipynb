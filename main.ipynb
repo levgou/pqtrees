{
 "cells": [
  {
   "cell_type": "markdown",
   "metadata": {},
   "source": [
    "# PQTrees\n",
    "#### Lev. G 2020 [GitHub](https://github.com/levgou/pqtrees)\n",
    "\n",
    "![Wikipedia - example](./docs/images/wiki_pqtree.png)"
   ]
  },
  {
   "cell_type": "markdown",
   "metadata": {},
   "source": [
    "### Project mostly based on the work described at:\n",
    "* __Finding All Common Intervals of k Permutations:__ `docs/articles/Finding All Common Intervals of k Permutations.pdf`\n",
    "\n",
    "* __Gene Proximity Analysis Across Whole Genomes via PQ Trees__: `docs/articles/Gene Proximity Analysis Across Whole Genomes via PQ Trees (2005) OrenWeimann.pdf`"
   ]
  },
  {
   "cell_type": "markdown",
   "metadata": {},
   "source": [
    "## The project:\n",
    "### This notebook is devided into a few subpartts as follows:\n",
    "\n",
    "i. Common intervals   \n",
    "ii. PQTrees    \n",
    "iii. PQTrees extensions    \n",
    "iv. Apendix   \n",
    "\n",
    "Each part will provide an explanatiion, an implementation and further remarks"
   ]
  },
  {
   "cell_type": "markdown",
   "metadata": {},
   "source": [
    "## Common Intervals "
   ]
  },
  {
   "cell_type": "markdown",
   "metadata": {},
   "source": [
    "### Glossary"
   ]
  },
  {
   "cell_type": "markdown",
   "metadata": {},
   "source": [
    "#### 1. Common Intervals\n",
    "\n",
    "For `k` permutation over the same alephabet, w.l.o.g over `[0..x]` and first permutation `p0` is `[0..x]`,\n",
    "Common intervals are sub intervals of `p0` (for example `[1..3]`) tha appear together in all the permutation.\n",
    "\n",
    "Trivial common intervals are all the singltons (because the permutations are over the same alphabet) - \n",
    "`[0,0]` ... `[x,x]`,   \n",
    "and the whole permutation `[0,x]`\n",
    "\n",
    "__Example:__   \n",
    "For permutations `(0, 1, 2, 3, 4) ; 4, 3, 0, 2, 1)` the non trivial common intervals are:\n",
    "`{ [1,2], [3,4], [0,2], [0,3] }`"
   ]
  },
  {
   "cell_type": "markdown",
   "metadata": {},
   "source": [
    "#### 2. Irreducible intervals \n",
    "For `k` permutation as in `1.` irreducible intervals are a sub set of the common intervals set, \n",
    "that follow:  \n",
    "\n",
    "Each interval that is not composable from any other intervals\n",
    "\n",
    "__Composoble:__ An interval is said to be composble in the case there are some other intervals that overlap with at leasr 1 character and compose the said interval, for ex. composing `[2,4]` with `[3,5]` produces `[2,5]`\n",
    "\n",
    "__Example:__ For athe following group of intervals:   \n",
    "`{[1, 2], [1, 3], [1, 8], [1, 9], [2, 3], [4, 5], [4, 6], [4, 7], [4, 8], [4, 9], [5, 6] }`\n",
    "\n",
    "The subset of irreducible intervlas is:   \n",
    "`{[1, 2], [1, 8], [2, 3], [4, 5], [4, 7], [4, 8], [4, 9], [5, 6]}`\n"
   ]
  },
  {
   "cell_type": "markdown",
   "metadata": {},
   "source": [
    "### Algorithms\n",
    "\n",
    "In order to find all the common intervals, first a trivial algorithm was used - then amore eficient one was devised."
   ]
  },
  {
   "cell_type": "markdown",
   "metadata": {},
   "source": [
    "#### 1. Trivial algorithm"
   ]
  },
  {
   "cell_type": "markdown",
   "metadata": {},
   "source": [
    "```python\n",
    "for size in [1, ..., len(permutations[0])]:\n",
    "    for w in sliding_window(permutations[0], size):\n",
    "        char_set = set(w)\n",
    "        if all(find_char_set(p, char_set) for p in permutations[1:]):\n",
    "            common_intervals.add(w)\n",
    "\n",
    "```"
   ]
  },
  {
   "cell_type": "code",
   "execution_count": 1,
   "metadata": {},
   "outputs": [
    {
     "data": {
      "text/plain": [
       "[CI[1, 2], CI[3, 4], CI[0, 2], CI[0, 3], CI[0, 4]]"
      ]
     },
     "execution_count": 1,
     "metadata": {},
     "output_type": "execute_result"
    }
   ],
   "source": [
    "from pqtrees import trivial_common_k\n",
    "\n",
    "permutations =  ((0, 1, 2, 3, 4), (4, 3, 0, 2, 1))\n",
    "trivial_common_k(*permutations)"
   ]
  },
  {
   "cell_type": "markdown",
   "metadata": {},
   "source": [
    "#### 2. Optimized Algorithm\n",
    "\n",
    "The optimized algorithm before searching a char_set in some pemutation - will index all the subsets of such permutation with the length of char_set - reducing the runtime of subsequent searched to `O(1)`.\n",
    "\n",
    "Index generation is done lazily (the index is updated only upon first search of a certain length), to eliminate not needed proccessing when working with big anounts of permutations (more than 20-30).\n",
    "\n",
    "The algorithm structure is very similar to `1.` but with indexing changes:\n",
    "\n",
    "```python\n",
    "for size in [1, ..., len(permutations[0])]:\n",
    "    index = {}\n",
    "    for w in sliding_window(permutations[0], size):\n",
    "        char_set = set(w)\n",
    "        if char_set_in_others(permutations[1:], char_set, index):\n",
    "            common_intervals.add(w)\n",
    "\n",
    "def char_set_in_others(others, char_set, index):\n",
    "    for other in others:\n",
    "        if other not in index:\n",
    "            index_perm(index, other, len(char_set)\n",
    "        if char_set not in index[other]:\n",
    "            return False\n",
    "    return True\n",
    "                                      \n",
    "def index_perm(index, perm, length):\n",
    "    for w in sliding_window(perm, length):\n",
    "        index[perm].add(set(w))\n",
    "```"
   ]
  },
  {
   "cell_type": "code",
   "execution_count": 2,
   "metadata": {},
   "outputs": [
    {
     "data": {
      "text/plain": [
       "[CI[1, 2], CI[3, 4], CI[0, 2], CI[0, 3], CI[0, 4]]"
      ]
     },
     "execution_count": 2,
     "metadata": {},
     "output_type": "execute_result"
    }
   ],
   "source": [
    "from pqtrees import common_k_indexed\n",
    "\n",
    "permutations =  ((0, 1, 2, 3, 4), (4, 3, 0, 2, 1))\n",
    "common_k_indexed(*permutations)"
   ]
  },
  {
   "cell_type": "markdown",
   "metadata": {},
   "source": [
    "#### 3. Benchmark\n",
    "We want to measure the improvement of the second alg.\n",
    "Thus we will run randomized examples on a large amount of long permutations and measure the times."
   ]
  },
  {
   "cell_type": "code",
   "execution_count": 3,
   "metadata": {},
   "outputs": [
    {
     "name": "stdout",
     "output_type": "stream",
     "text": [
      "\n",
      "Runtimes:\n",
      "{'common_k_indexed': 0.9768232009999549, 'trivial_common_k': 56.01877341199999}\n"
     ]
    }
   ],
   "source": [
    "import random\n",
    "from pprint import pprint\n",
    "from pqtrees import time_runtime\n",
    "\n",
    "REPEAT_TEST_TIMES = 150\n",
    "LENGTH = 100\n",
    "NUM_PERMS = 100\n",
    "\n",
    "algs = [trivial_common_k, common_k_indexed]\n",
    "names = [alg.__name__ for alg in algs]\n",
    "total_times = {name: 0 for name in names}\n",
    "\n",
    "\n",
    "for _ in range(REPEAT_TEST_TIMES):\n",
    "\n",
    "    sig_a = list(range(LENGTH))\n",
    "    other_perms = [list(sig_a) for _ in range(NUM_PERMS - 1)]\n",
    "    for p in other_perms:\n",
    "        random.shuffle(p)\n",
    "\n",
    "    t_others = map(tuple, other_perms)\n",
    "\n",
    "    for alg, alg_name in zip(algs, names):\n",
    "        _, cur_rt = time_runtime(lambda: alg(sig_a, *t_others))\n",
    "        total_times[alg_name] += cur_rt\n",
    "\n",
    "print(\"\\nRuntimes:\")\n",
    "pprint(total_times)\n"
   ]
  },
  {
   "cell_type": "markdown",
   "metadata": {},
   "source": [
    "## PQTree\n",
    "![Wikipedia - example](./docs/images/wiki_pqtree.png)"
   ]
  },
  {
   "cell_type": "markdown",
   "metadata": {},
   "source": [
    "### Glossary"
   ]
  },
  {
   "cell_type": "markdown",
   "metadata": {},
   "source": [
    "#### PQtree\n",
    "A rooted, ordered, tree consisting of __P__ nodes and __Q__ nodes, which represents a number of string, recursivly built from the __P__ and __Q__ rules bellow."
   ]
  },
  {
   "cell_type": "markdown",
   "metadata": {},
   "source": [
    "#### PNode (mnemonic - permutation node)\n",
    "A __P__ node yield the strings that consist of all the permutations of it's children (leafs / inner nodes).\n",
    "\n",
    "In the example tree above, the PNode yields: `(2,3,4), (2,4,3), (3,2,4), (3,4,2), (4,3,2), (4,3,2)`"
   ]
  },
  {
   "cell_type": "markdown",
   "metadata": {},
   "source": [
    "#### QNode\n",
    "A __Q__ node yield the strings that consits of it's children in their order, and in their reverse order.\n",
    "\n",
    "In the example tree above, the Qnode yields: `(1, yield(P), 5), (5, yield(P), 1)`"
   ]
  },
  {
   "cell_type": "markdown",
   "metadata": {},
   "source": [
    "#### Full example\n",
    "If we combine both yields, as described aobve, the full yield of the example tree is:\n",
    "`12345, 12435, 13245, 13425, 14235, 14325, 52341, 52431, 53241, 53421, 54231, 54321`"
   ]
  },
  {
   "cell_type": "markdown",
   "metadata": {},
   "source": [
    "#### Parentheses representation\n",
    "PQtrees could also be represented as parentheses where:\n",
    "1. QNode is serrounded by `[ ]` brackets\n",
    "2. PNode is sorrounded by `( )` brackets\n",
    "\n",
    "Thus our example tree could be represented as: `[1 (2 3 4) 5]`"
   ]
  },
  {
   "cell_type": "markdown",
   "metadata": {},
   "source": [
    "### Construction Algorithm"
   ]
  },
  {
   "cell_type": "markdown",
   "metadata": {},
   "source": [
    "The construction algorithm is consisted of few steps.\n",
    "For give `P = {p1, ... , pk}` permutation of `(1...x)` the steps are:\n",
    "\n",
    "1. Compute the common intervals set of P - as described in the first section\n",
    "2. Compute the irreducible intervals set (a strait forward alg. - description not attached)\n",
    "3. From the irreducible intervals set - compue a data stracture called `S`\n",
    "4. From `S` - construct the PQTree"
   ]
  },
  {
   "cell_type": "markdown",
   "metadata": {},
   "source": [
    "#### Construction of  `S` from the set of irreducible intervals\n",
    "\n",
    "![S data structure](./docs/images/s_data_stracture.png)"
   ]
  },
  {
   "cell_type": "markdown",
   "metadata": {},
   "source": [
    "The structure as depicted above is a sort of the irreduvible intervals set by nesting level.\n",
    "\n",
    "__Nesting Level:__ nesting level of an interval, is the amount of other intervals that include said interval (as sub interval)\n",
    "\n",
    "As we can see in the example `[4,5]` has nesting level of 4 - because its included in `[4,7], [4,8], [1,8], [4,9]`\n",
    "\n",
    "The alg. to perform such sorting is pretty strait forward:\n",
    "1. sort the interval by size from large to small\n",
    "2. For each interval in above order check if its included in the larger intervals, if so its nesting level is +1 of the first interval that includes it (the smallest one).\n",
    "\n",
    "Because we're not dealing with hige amounts of intervals above alg. is sufficently efficient, although there are faster ways to compute the `S` data structure."
   ]
  },
  {
   "cell_type": "markdown",
   "metadata": {},
   "source": [
    "#### Construction of a PQTree from a  `S` data stracture"
   ]
  },
  {
   "cell_type": "markdown",
   "metadata": {},
   "source": [
    "When constructing the tree we will iterate over `S` in a bottom order from left to right:\n",
    "\n",
    "* If nestigLevel(x) > nestingLevel(y) then x shows up in the iteration before y\n",
    "* If left(a) < left(b)  the a shows up in the iteration befoe b"
   ]
  },
  {
   "cell_type": "markdown",
   "metadata": {},
   "source": [
    "While iteration over `S` we have 3 kind of cases for each interval:\n",
    "![S iter pic](./docs/images/s_iter_cases_pic.png)\n",
    "\n",
    "![S iter description](./docs/images/s_iter_description.png)\n"
   ]
  },
  {
   "cell_type": "markdown",
   "metadata": {},
   "source": [
    "##### Case A\n",
    "Trivial intervals in `S` - will be represented as leafs in the produced PQtree"
   ]
  },
  {
   "cell_type": "markdown",
   "metadata": {},
   "source": [
    "##### Case B\n",
    "* Will be represented as a QNode in the tree\n",
    "* In the example (1,3)\n",
    "* QNodes' children will be:\n",
    "    * A child representing the intersection - in the example - 2\n",
    "    * A child representing the items that are only in the left interval - 1\n",
    "    * A child representing the items that are only in the right inreval - 3\n",
    "\n",
    "We can see the _orange_ Qnode that will be produced from the highlited intervals:\n",
    "![S iter description](./docs/images/qnode_example.png)"
   ]
  },
  {
   "cell_type": "markdown",
   "metadata": {},
   "source": [
    "##### Case C\n",
    "An intervals that is not a part of interval chain - will be represented as a PNode in the final tree\n",
    "\n",
    "Note: PNode with 2 children - will be converted to a QNode as we can see happed to the _green_ interval:\n",
    "\n",
    "![S iter description](./docs/images/pnode_example1.png)"
   ]
  },
  {
   "cell_type": "markdown",
   "metadata": {},
   "source": [
    "##### Case C - Example with PNode produced ???????"
   ]
  },
  {
   "cell_type": "markdown",
   "metadata": {},
   "source": [
    "### PQTree construction code example\n",
    "We will show demonstrate the construction of the tree that is in the first Example"
   ]
  },
  {
   "cell_type": "code",
   "execution_count": 4,
   "metadata": {},
   "outputs": [
    {
     "data": {
      "text/plain": [
       "PQ<[1 (2 3 4) 5]>"
      ]
     },
     "execution_count": 4,
     "metadata": {},
     "output_type": "execute_result"
    }
   ],
   "source": [
    "from pqtrees import common_k_indexed_with_singletons, ReduceIntervals, IntervalHierarchy, PQTreeBuilder, PQTree\n",
    "\n",
    "perms = [(0, 1, 2, 3, 4), (0, 1, 3, 2, 4), (0, 2, 1, 3, 4),\n",
    "         (0, 2, 3, 1, 4), (0, 3, 1, 2, 4), (0, 3, 2, 1, 4),\n",
    "         (4, 1, 2, 3, 0), (4, 1, 3, 2, 0), (4, 2, 1, 3, 0),\n",
    "         (4, 2, 3, 1, 0), (4, 3, 1, 2, 0), (4, 3, 2, 1, 0)]\n",
    "\n",
    "common_intervals = common_k_indexed_with_singletons(*perms)\n",
    "ir_intervals = ReduceIntervals.reduce(common_intervals)\n",
    "\n",
    "s = IntervalHierarchy.from_irreducible_intervals(ir_intervals)\n",
    "pqtree = PQTreeBuilder._from_s(s)\n",
    "\n",
    "# Which is equivalent to:\n",
    "perms_starting_1 = list(map(lambda perm: tuple(x + 1 for x in perm), perms))\n",
    "pqtree = PQTreeBuilder.from_perms(perms_starting_1)\n",
    "pqtree"
   ]
  },
  {
   "cell_type": "markdown",
   "metadata": {},
   "source": [
    "We can check the parenthesis representation and inspect the frontier:"
   ]
  },
  {
   "cell_type": "code",
   "execution_count": 5,
   "metadata": {},
   "outputs": [
    {
     "data": {
      "text/plain": [
       "'[1 (2 3 4) 5]'"
      ]
     },
     "execution_count": 5,
     "metadata": {},
     "output_type": "execute_result"
    }
   ],
   "source": [
    "pqtree.to_parens()"
   ]
  },
  {
   "cell_type": "code",
   "execution_count": 6,
   "metadata": {},
   "outputs": [
    {
     "data": {
      "text/plain": [
       "['12345',\n",
       " '52341',\n",
       " '12435',\n",
       " '52431',\n",
       " '13245',\n",
       " '53241',\n",
       " '13425',\n",
       " '53421',\n",
       " '14235',\n",
       " '54231',\n",
       " '14325',\n",
       " '54321']"
      ]
     },
     "execution_count": 6,
     "metadata": {},
     "output_type": "execute_result"
    }
   ],
   "source": [
    "list(pqtree.frontier())"
   ]
  },
  {
   "cell_type": "markdown",
   "metadata": {},
   "source": [
    "And visualzie the tree:"
   ]
  },
  {
   "cell_type": "code",
   "execution_count": 7,
   "metadata": {},
   "outputs": [
    {
     "data": {
      "image/png": "[encoded data removed]",
      "text/plain": [
       "<Figure size 576x576 with 1 Axes>"
      ]
     },
     "metadata": {},
     "output_type": "display_data"
    }
   ],
   "source": [
    "from pqtrees import PQTreeVisualizer\n",
    "\n",
    "PQTreeVisualizer.show(pqtree)"
   ]
  },
  {
   "cell_type": "markdown",
   "metadata": {},
   "source": [
    "We can also produce a Json representation for integration with other tools"
   ]
  },
  {
   "cell_type": "code",
   "execution_count": 8,
   "metadata": {},
   "outputs": [
    {
     "name": "stdout",
     "output_type": "stream",
     "text": [
      "{\n",
      "  \"approx_front_size\": 12,\n",
      "  \"root\": {\n",
      "    \"type\": \"QNode\",\n",
      "    \"children\": [\n",
      "      {\n",
      "        \"type\": \"LEAF\",\n",
      "        \"char\": \"1\"\n",
      "      },\n",
      "      {\n",
      "        \"type\": \"PNode\",\n",
      "        \"children\": [\n",
      "          {\n",
      "            \"type\": \"LEAF\",\n",
      "            \"char\": \"2\"\n",
      "          },\n",
      "          {\n",
      "            \"type\": \"LEAF\",\n",
      "            \"char\": \"3\"\n",
      "          },\n",
      "          {\n",
      "            \"type\": \"LEAF\",\n",
      "            \"char\": \"4\"\n",
      "          }\n",
      "        ]\n",
      "      },\n",
      "      {\n",
      "        \"type\": \"LEAF\",\n",
      "        \"char\": \"5\"\n",
      "      }\n",
      "    ]\n",
      "  }\n",
      "}\n"
     ]
    }
   ],
   "source": [
    "print(pqtree.to_json(pretty=True, ommit_multi_info=True))"
   ]
  },
  {
   "cell_type": "markdown",
   "metadata": {},
   "source": [
    "## PQtree extensions"
   ]
  },
  {
   "cell_type": "markdown",
   "metadata": {},
   "source": [
    "### PQtree with Multi Characters"
   ]
  },
  {
   "cell_type": "markdown",
   "metadata": {},
   "source": [
    "One of the proposed extenssion to the PQTree, in this project is - dealing with characters that repeat but show up together.\n",
    "\n",
    "We know that biologically - thandhem duplications are a frequent way of \"character multiplications\".\n",
    "\n",
    "The proposition to solve this special case is to merge all the characters that are the same in to a __Multi Character__ , and solve the PQTree problem on the reduced string.\n",
    "\n",
    "The leafs in the produced tree will contain the information of reduction done - thus we can represent the original string in the frontier of our tree (and others with such duplocation)"
   ]
  },
  {
   "cell_type": "markdown",
   "metadata": {},
   "source": [
    "##### Example:\n",
    "We will provide an example of such strings, and the full soulution of the problem bellow"
   ]
  },
  {
   "cell_type": "code",
   "execution_count": 9,
   "metadata": {},
   "outputs": [
    {
     "data": {
      "image/png": "[encoded data removed]",
      "text/plain": [
       "<Figure size 576x576 with 1 Axes>"
      ]
     },
     "metadata": {},
     "output_type": "display_data"
    }
   ],
   "source": [
    "from pqtrees import PQTreeDup\n",
    "\n",
    "perms = [(0, 1, 1, 2, 3, 4),     (0, 1, 3, 2, 4, 4),     (0, 2, 1, 3, 4),\n",
    "         (0, 2, 3, 1, 1, 4),     (0, 3, 1, 2, 4, 4),     (0, 3, 2, 1, 4),\n",
    "         (4, 1, 1, 2, 3, 0),     (4, 4, 1, 3, 2, 0),     (4, 2, 1, 3, 0),\n",
    "         (4, 2, 3, 1, 1, 1, 0),  (4, 4, 4, 3, 1, 2, 0),  (4, 3, 2, 1, 0)]\n",
    "\n",
    "perm_strs = [''.join(map(str, p)) for p in perms]\n",
    "\n",
    "pqtree = PQTreeDup.from_perms_wth_multi(perms)\n",
    "PQTreeVisualizer.show(pqtree)"
   ]
  },
  {
   "cell_type": "markdown",
   "metadata": {},
   "source": [
    "As we can see we get the same tree structure as before,\n",
    "but let us examine the frontier and the json representation."
   ]
  },
  {
   "cell_type": "code",
   "execution_count": 10,
   "metadata": {},
   "outputs": [
    {
     "name": "stdout",
     "output_type": "stream",
     "text": [
      "['01234', '41230', '01324', '41320', '02134', '42130', '02314', '42310',\n",
      " '03124', '43120', '03214', '43210', '012344', '441230', '013244', '441320',\n",
      " '021344', '442130', '023144', '442310', '031244', '443120', '032144', '443210',\n",
      " '011234', '411230', '011324', '411320', '021134', '421130', '023114', '423110',\n",
      " '031124', '431120', '032114', '432110', '0123444', '4441230', '0132444',\n",
      " '4441320', '0213444', '4442130', '0231444', '4442310', '0312444', '4443120',\n",
      " '0321444', '4443210', '0112344', '4411230', '0113244', '4411320', '0211344',\n",
      " '4421130', '0231144', '4423110', '0311244', '4431120', '0321144', '4432110',\n",
      " '0111234', '4111230', '0111324', '4111320', '0211134', '4211130', '0231114',\n",
      " '4231110', '0311124', '4311120', '0321114', '4321110', '01123444', '44411230',\n",
      " '01132444', '44411320', '02113444', '44421130', '02311444', '44423110',\n",
      " '03112444', '44431120', '03211444', '44432110', '01112344', '44111230',\n",
      " '01113244', '44111320', '02111344', '44211130', '02311144', '44231110',\n",
      " '03111244', '44311120', '03211144', '44321110', '011123444', '444111230',\n",
      " '011132444', '444111320', '021113444', '444211130', '023111444', '444231110',\n",
      " '031112444', '444311120', '032111444', '444321110']\n",
      "\n",
      "All permutations in frontier: True\n"
     ]
    }
   ],
   "source": [
    "from pprint import pprint\n",
    "\n",
    "front = list(pqtree.frontier())\n",
    "pprint(sorted(front, key=len), compact=True)\n",
    "\n",
    "print(f'\\nAll permutations in frontier: {all(p in front for p in perm_strs)}')"
   ]
  },
  {
   "cell_type": "markdown",
   "metadata": {},
   "source": [
    "As we can see, now the frontier also includes all the possible duplications of characters."
   ]
  },
  {
   "cell_type": "code",
   "execution_count": 11,
   "metadata": {},
   "outputs": [
    {
     "name": "stdout",
     "output_type": "stream",
     "text": [
      "{\n",
      "  \"approx_front_size\": 108,\n",
      "  \"root\": {\n",
      "    \"type\": \"QNode\",\n",
      "    \"children\": [\n",
      "      {\n",
      "        \"type\": \"LEAF\",\n",
      "        \"char\": \"0\",\n",
      "        \"multi\": false,\n",
      "        \"multi_stats\": {\n",
      "          \"1\": \"12:12\"\n",
      "        }\n",
      "      },\n",
      "      {\n",
      "        \"type\": \"PNode\",\n",
      "        \"children\": [\n",
      "          {\n",
      "            \"type\": \"LEAF\",\n",
      "            \"char\": \"1\",\n",
      "            \"multi\": true,\n",
      "            \"multi_stats\": {\n",
      "              \"1\": \"8:12\",\n",
      "              \"2\": \"3:12\",\n",
      "              \"3\": \"1:12\"\n",
      "            }\n",
      "          },\n",
      "          {\n",
      "            \"type\": \"LEAF\",\n",
      "            \"char\": \"2\",\n",
      "            \"multi\": false,\n",
      "            \"multi_stats\": {\n",
      "              \"1\": \"12:12\"\n",
      "            }\n",
      "          },\n",
      "          {\n",
      "            \"type\": \"LEAF\",\n",
      "            \"char\": \"3\",\n",
      "            \"multi\": false,\n",
      "            \"multi_stats\": {\n",
      "              \"1\": \"12:12\"\n",
      "            }\n",
      "          }\n",
      "        ]\n",
      "      },\n",
      "      {\n",
      "        \"type\": \"LEAF\",\n",
      "        \"char\": \"4\",\n",
      "        \"multi\": true,\n",
      "        \"multi_stats\": {\n",
      "          \"1\": \"8:12\",\n",
      "          \"2\": \"3:12\",\n",
      "          \"3\": \"1:12\"\n",
      "        }\n",
      "      }\n",
      "    ]\n",
      "  },\n",
      "  \"has_multi_chars\": true\n",
      "}\n"
     ]
    }
   ],
   "source": [
    "print(pqtree.to_json(pretty=True))"
   ]
  },
  {
   "cell_type": "markdown",
   "metadata": {},
   "source": [
    "We can see, that the characters that were reduced, retain the information of the original strings as fractions."
   ]
  },
  {
   "cell_type": "markdown",
   "metadata": {},
   "source": [
    "### PQTree with multiple occuraces of characters"
   ]
  },
  {
   "cell_type": "markdown",
   "metadata": {},
   "source": [
    "Another problem we would like to address is when there are duplication of characters but they dont show up consequently in all of our permutations.\n",
    "\n",
    "For example: \n",
    "```python\n",
    "[\n",
    "    (1, 2, 3, 1),\n",
    "    (1, 2, 1, 3)\n",
    "]\n",
    "```"
   ]
  },
  {
   "cell_type": "markdown",
   "metadata": {},
   "source": [
    "The soulution we propose, that doesnt do any assumptions about the \"origins of the characters\", meaning we do not provide a statement about \"which `1` in the first perm is the same one as the `1` in the second\", \n",
    "is to return a forest of PQTrees for each of these combinations.\n",
    "\n",
    "Let us provide an example of all the combination for the above permutations:\n",
    "\n",
    "```python\n",
    "[\n",
    "    [\n",
    "        (1.1, 2, 3, 1.2),\n",
    "        (1.1, 2, 1.2, 3)\n",
    "    ],\n",
    "    \n",
    "    [\n",
    "        (1.2, 2, 3, 1.1),\n",
    "        (1.1, 2, 1.2, 3)\n",
    "    ],\n",
    "    \n",
    "    [\n",
    "        (1.1, 2, 3, 1.2),\n",
    "        (1.2, 2, 1.1, 3)\n",
    "    ],\n",
    "    \n",
    "    [\n",
    "        (1.2, 2, 3, 1.1),\n",
    "        (1.2, 2, 1.1, 3)\n",
    "    ]\n",
    "]\n",
    "```\n",
    "\n",
    "But if we examine closly, we can see that there is a duplication in our example.\n",
    "We can see that bellow examples are equivalent:\n",
    "```python\n",
    "[\n",
    "    (1.1, 2, 3, 1.2),\n",
    "    (1.1, 2, 1.2, 3)\n",
    "]\n",
    "\n",
    "[\n",
    "    (1.2, 2, 3, 1.1),\n",
    "    (1.2, 2, 1.1, 3)\n",
    "]\n",
    "```\n",
    "\n",
    "Thus in our computation the _order_ of the characters never changes in the first permutation, reducing the possibilities to:\n",
    "\n",
    "\n",
    "```python\n",
    "[\n",
    "    [\n",
    "        (1.1, 2, 3, 1.2),\n",
    "        (1.1, 2, 1.2, 3)\n",
    "    ],\n",
    "    \n",
    "    [\n",
    "        (1.2, 2, 3, 1.1),\n",
    "        (1.1, 2, 1.2, 3)\n",
    "    ]\n",
    "]\n",
    "```"
   ]
  },
  {
   "cell_type": "markdown",
   "metadata": {},
   "source": [
    "Lets examine the produced pqtree from above permutations"
   ]
  },
  {
   "cell_type": "code",
   "execution_count": 12,
   "metadata": {},
   "outputs": [
    {
     "name": "stdout",
     "output_type": "stream",
     "text": [
      "\n",
      "PQtree1: [1 2 [3 1]], front size: 4 \n",
      "all perms in PQTree1's frontier: True\n",
      "PQtree1 frontier: ['1231', '3121', '1213', '1321']\n",
      "\n",
      "PQtree2: [[[1 2] 3] 1], front size: 8\n",
      "all perms in PQTree2's frontier: True\n",
      "PQtree2 frontier: ['1231', '1123', '3121', '1312', '2131', '1213', '3211', '1321']\n",
      "\n"
     ]
    }
   ],
   "source": [
    "perms = [\n",
    "    (1, 2, 3, 1),\n",
    "    (1, 2, 1, 3)\n",
    "]\n",
    "perm_strs = [''.join(map(str, p)) for p in perms]\n",
    "\n",
    "pqtree1, pqtree2 = list(PQTreeDup.from_perms(perms))\n",
    "\n",
    "print(f\"\"\"\n",
    "PQtree1: {pqtree1.to_parens()}, front size: {pqtree1.approx_frontier_size()} \n",
    "all perms in PQTree1's frontier: {all(p in pqtree1.frontier() for p in perm_strs)}\n",
    "PQtree1 frontier: {list(pqtree1.frontier())}\n",
    "\n",
    "PQtree2: {pqtree2.to_parens()}, front size: {pqtree2.approx_frontier_size()}\n",
    "all perms in PQTree2's frontier: {all(p in pqtree2.frontier() for p in perm_strs)}\n",
    "PQtree2 frontier: {list(pqtree2.frontier())}\n",
    "\"\"\")"
   ]
  },
  {
   "cell_type": "markdown",
   "metadata": {},
   "source": [
    "We can see that the frontier size of above trees differs, thus we would suggest using one of the trees (or all of them) with the smallest frontier size - meaning it's the most conservative and still include the original permutations in their frontier."
   ]
  },
  {
   "cell_type": "markdown",
   "metadata": {},
   "source": [
    "### PQtree with multiple occuraces - context optimization\n",
    "This enhancement is still a work in progress and has known examples that brake, which will be presented"
   ]
  },
  {
   "cell_type": "markdown",
   "metadata": {},
   "source": [
    "Because above example is exponential in the number of permutations (actually its even worse if we have multiple characters that repeat) we would like to reduce the amount of possibilies we examine.\n",
    "\n",
    "In otder to do so, the proposition is to join the repeating characters with another charcter that all the permutations agree on.\n",
    "\n",
    "For example bellow permutations:\n",
    "```python\n",
    "perms = [\n",
    "    (1, 2, 3, 1),\n",
    "    (1, 2, 1, 3)\n",
    "]\n",
    "```\n",
    "\n",
    "Will be transformed for example to:\n",
    "```python\n",
    "perms = [\n",
    "    (1.2, 3, 1),\n",
    "    (1.2, 1, 3)\n",
    "]\n",
    "```\n",
    "\n",
    "In above case, the problem was reduced to the original PQtree problem, but sometims we still will need to produce PQtree forest.\n"
   ]
  },
  {
   "cell_type": "markdown",
   "metadata": {},
   "source": [
    "After above reduction is done we would like to compute the pqtree, and than \"break\" the joint characters.\n",
    "Let us examine an end to end example bellow:"
   ]
  },
  {
   "cell_type": "code",
   "execution_count": 13,
   "metadata": {},
   "outputs": [
    {
     "name": "stdout",
     "output_type": "stream",
     "text": [
      "\n",
      "PQtree: [1 2 (3 5 4 1)], front size: 48 \n",
      "all perms in PQTree's frontier: True\n",
      "\n",
      "\n",
      "PQtree1: [1 2 (3 5 4 1)], front size: 48 \n",
      "all perms in PQTree1's frontier: True\n",
      "\n",
      "PQtree2: [[(1 2 3 5) 4] 1], front size: 96\n",
      "all perms in PQTree2's frontier: True\n",
      "\n"
     ]
    }
   ],
   "source": [
    "perms = [\n",
    "    (1, 2, 3, 5, 4, 1),\n",
    "    (1, 2, 5, 1, 3, 4)\n",
    "]\n",
    "perm_strs = [''.join(map(str, p)) for p in perms]\n",
    "\n",
    "pqtree, *rest = list(PQTreeDup.from_perms_with_merge(perms))\n",
    "pqtree1, pqtree2 = list(PQTreeDup.from_perms(perms))\n",
    "\n",
    "print(f\"\"\"\n",
    "PQtree: {pqtree.to_parens()}, front size: {pqtree.approx_frontier_size()} \n",
    "all perms in PQTree's frontier: {all(p in pqtree.frontier() for p in perm_strs)}\n",
    "\"\"\")\n",
    "\n",
    "print(f\"\"\"\n",
    "PQtree1: {pqtree1.to_parens()}, front size: {pqtree1.approx_frontier_size()} \n",
    "all perms in PQTree1's frontier: {all(p in pqtree1.frontier() for p in perm_strs)}\n",
    "\n",
    "PQtree2: {pqtree2.to_parens()}, front size: {pqtree2.approx_frontier_size()}\n",
    "all perms in PQTree2's frontier: {all(p in pqtree2.frontier() for p in perm_strs)}\n",
    "\"\"\")"
   ]
  },
  {
   "cell_type": "markdown",
   "metadata": {},
   "source": [
    "We can in the above example, the we saved the computation of some tree, and still produced the optimal tree"
   ]
  },
  {
   "cell_type": "markdown",
   "metadata": {},
   "source": [
    "Unfortianlty, while running randomized tests and comparing to the exponential method, we found examples that do not produce the optimal tree"
   ]
  },
  {
   "cell_type": "code",
   "execution_count": 14,
   "metadata": {},
   "outputs": [
    {
     "name": "stdout",
     "output_type": "stream",
     "text": [
      "\n",
      "PQtree: [1 2 3 (4 [5 6] 7 [7 8 9])], front size: 192 \n",
      "all perms in PQTree's frontier: True\n",
      "\n",
      "\n",
      "Best PQtree: [1 2 3 [4 [[5 6] 7]] [7 [8 9]]], front size: 64 \n",
      "all perms in Best PQTree's frontier: True\n",
      "\n",
      "All pqtrees: [PQ<[1 2 3 [4 [[5 6] 7]] [7 [8 9]]]>, PQ<[1 2 3 (4 [5 6] 7 7 [8 9])]>, PQ<[1 2 3 (4 [5 6] 7 [7 8 9])]>, PQ<[1 2 3 (4 [5 6] 7 7 [8 9])]>]\n"
     ]
    }
   ],
   "source": [
    "perms = ((1, 2, 3, 4, 5, 6, 7, 7, 8, 9), (1, 2, 3, 6, 5, 7, 4, 7, 8, 9), (1, 2, 3, 4, 5, 6, 7, 8, 9, 7))\n",
    "\n",
    "\n",
    "perm_strs = [''.join(map(str, p)) for p in perms]\n",
    "\n",
    "pqtree, *rest = list(PQTreeDup.from_perms_with_merge(perms))\n",
    "all_pqtrees = list(PQTreeDup.from_perms(perms))\n",
    "best_pqtree = sorted(all_pqtrees, key=PQTree.approx_frontier_size)[0]\n",
    "\n",
    "print(f\"\"\"\n",
    "PQtree: {pqtree.to_parens()}, front size: {pqtree.approx_frontier_size()} \n",
    "all perms in PQTree's frontier: {all(p in pqtree.frontier() for p in perm_strs)}\n",
    "\"\"\")\n",
    "\n",
    "print(f\"\"\"\n",
    "Best PQtree: {best_pqtree.to_parens()}, front size: {best_pqtree.approx_frontier_size()} \n",
    "all perms in Best PQTree's frontier: {all(p in best_pqtree.frontier() for p in perm_strs)}\n",
    "\"\"\")\n",
    "\n",
    "print(f\"All pqtrees: {all_pqtrees}\")"
   ]
  },
  {
   "cell_type": "markdown",
   "metadata": {},
   "source": [
    "We can see that the pqtree produced is one of th epossibilities of the exponential method, but not the most consevative one.\n",
    "\n",
    "Work should still be done to understand such examples."
   ]
  },
  {
   "cell_type": "markdown",
   "metadata": {},
   "source": [
    "## Further work to be done"
   ]
  },
  {
   "cell_type": "markdown",
   "metadata": {},
   "source": [
    "In case the reader is exersizing the idea of running the above algorithms on examples with many permutations and many duplications, the exponential method might no suffice.\n",
    "\n",
    "This problem could be addresed in 2 ways:\n",
    "1. We can imporove the runtime of construction of single exmaple - this route might be explored for long permutations, where finding all the common intervals might take substential time - we can see suggestions in `Finding All Common Intervals of k Permutations`.\n",
    "\n",
    "    1.1 The common intervals problem could also be solved in `C` and interfaced via python\n",
    "\n",
    "\n",
    "2. The context joining of charactes, could be further explored in order to understand whether its possible to produce the optimal example at all cases."
   ]
  },
  {
   "cell_type": "markdown",
   "metadata": {},
   "source": [
    "## Main contributions"
   ]
  },
  {
   "cell_type": "markdown",
   "metadata": {},
   "source": [
    "### Implematation of the PQTree data stracture:\n",
    "The implemenation is done in Python3, and its api is approachable and extendible.\n",
    "The project is organized and published on GitHub"
   ]
  },
  {
   "cell_type": "markdown",
   "metadata": {},
   "source": [
    "### Multi characters:\n",
    "The implementation addresses the cases where the duplications are consequent well, and solves the construction of a PQTree for such cases"
   ]
  },
  {
   "cell_type": "markdown",
   "metadata": {},
   "source": [
    "### General multiple occurances\n",
    "The problem is solved in a simple way, but more advaced ways were exlored"
   ]
  }
 ],
 "metadata": {
  "kernelspec": {
   "display_name": "Python 3",
   "language": "python",
   "name": "python3"
  },
  "language_info": {
   "codemirror_mode": {
    "name": "ipython",
    "version": 3
   },
   "file_extension": ".py",
   "mimetype": "text/x-python",
   "name": "python",
   "nbconvert_exporter": "python",
   "pygments_lexer": "ipython3",
   "version": "3.8.1"
  }
 },
 "nbformat": 4,
 "nbformat_minor": 4
}
